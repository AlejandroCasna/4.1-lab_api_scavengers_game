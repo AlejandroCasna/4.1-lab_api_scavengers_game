{
 "cells": [
  {
   "cell_type": "code",
   "execution_count": 1,
   "id": "013a2f88",
   "metadata": {},
   "outputs": [],
   "source": [
    "import json\n",
    "import requests as req\n",
    "import os\n",
    "from dotenv import load_dotenv"
   ]
  },
  {
   "cell_type": "markdown",
   "id": "threaded-asbestos",
   "metadata": {},
   "source": [
    "# Challenge 2: Count Commits\n",
    "\n",
    "Count how many commits were made in the past week.\n",
    "\n",
    "Obtain all the commits made in the past week via API, which is a JSON array that contains multiple commit objects.\n",
    "\n",
    "Count how many commit objects are contained in the array."
   ]
  },
  {
   "cell_type": "markdown",
   "id": "norwegian-praise",
   "metadata": {},
   "source": [
    "⚠️ **Remember to limit your output before submission**."
   ]
  },
  {
   "cell_type": "code",
   "execution_count": 4,
   "id": "developing-printing",
   "metadata": {},
   "outputs": [],
   "source": [
    "#Your code\n",
    "url = \"https://api.github.com\""
   ]
  },
  {
   "cell_type": "code",
   "execution_count": 5,
   "id": "7a51bfdf",
   "metadata": {},
   "outputs": [
    {
     "data": {
      "text/plain": [
       "<Response [200]>"
      ]
     },
     "execution_count": 5,
     "metadata": {},
     "output_type": "execute_result"
    }
   ],
   "source": [
    "with open('pass.txt', 'r') as file:   # pass.txt en .gitignore\n",
    "    \n",
    "    pass_ = file.read()\n",
    "\n",
    "HEADER = {'Authorization': 'token ' + pass_ } \n",
    "res = req.get(url, headers=HEADER)\n",
    "res"
   ]
  },
  {
   "cell_type": "code",
   "execution_count": 10,
   "id": "896b3a3f",
   "metadata": {},
   "outputs": [
    {
     "data": {
      "text/plain": [
       "'https://api.github.com/search/commits?q={query}{&page,per_page,sort,order}'"
      ]
     },
     "execution_count": 10,
     "metadata": {},
     "output_type": "execute_result"
    }
   ],
   "source": [
    "res.json()['commit_search_url']"
   ]
  },
  {
   "cell_type": "code",
   "execution_count": 12,
   "id": "02e69943",
   "metadata": {},
   "outputs": [],
   "source": [
    "url = res.json()['commit_search_url']\n",
    "res = req.get(url, headers=HEADER)"
   ]
  },
  {
   "cell_type": "code",
   "execution_count": 22,
   "id": "0a071275",
   "metadata": {},
   "outputs": [
    {
     "data": {
      "text/plain": [
       "dict_keys(['total_count', 'incomplete_results', 'items'])"
      ]
     },
     "execution_count": 22,
     "metadata": {},
     "output_type": "execute_result"
    }
   ],
   "source": [
    "res.json().keys()"
   ]
  },
  {
   "cell_type": "code",
   "execution_count": 44,
   "id": "ef76caef",
   "metadata": {},
   "outputs": [
    {
     "data": {
      "text/plain": [
       "{'url': 'https://api.github.com/repos/tonCodesData/skyscanner-data-analytics-migration-to-tableau/git/commits/eb8e8a50480c3d274eee2d6b8cda306bfbe2f10f',\n",
       " 'author': {'date': '2023-09-04T11:54:51.000+01:00',\n",
       "  'name': 'tonCodesData',\n",
       "  'email': 'rashid920129@gmail.com'},\n",
       " 'committer': {'date': '2023-09-04T11:54:51.000+01:00',\n",
       "  'name': 'tonCodesData',\n",
       "  'email': 'rashid920129@gmail.com'},\n",
       " 'message': 'adds query',\n",
       " 'tree': {'url': 'https://api.github.com/repos/tonCodesData/skyscanner-data-analytics-migration-to-tableau/git/trees/7f33722124a7488bf9dd39f3ae5894b6d9a399d9',\n",
       "  'sha': '7f33722124a7488bf9dd39f3ae5894b6d9a399d9'},\n",
       " 'comment_count': 0}"
      ]
     },
     "execution_count": 44,
     "metadata": {},
     "output_type": "execute_result"
    }
   ],
   "source": [
    "res.json()['items'][10]['commit']"
   ]
  },
  {
   "cell_type": "code",
   "execution_count": 36,
   "id": "creative-stable",
   "metadata": {},
   "outputs": [
    {
     "data": {
      "text/plain": [
       "30"
      ]
     },
     "execution_count": 36,
     "metadata": {},
     "output_type": "execute_result"
    }
   ],
   "source": [
    "# Example: print(variable[:10]) \n",
    "len(res.json()['items'])\n"
   ]
  },
  {
   "cell_type": "code",
   "execution_count": 52,
   "id": "659711e2",
   "metadata": {},
   "outputs": [
    {
     "name": "stdout",
     "output_type": "stream",
     "text": [
      "Error al analizar la fecha: 2023-09-07T15:13:52.000. Detalle: unconverted data remains: .000\n",
      "Error al analizar la fecha: 2023-09-04T16:06:29.000. Detalle: unconverted data remains: .000\n",
      "Error al analizar la fecha: 2023-09-09T04:28:43.000. Detalle: unconverted data remains: .000\n",
      "Error al analizar la fecha: 2023-08-25T14:18:33.000. Detalle: unconverted data remains: .000\n",
      "Error al analizar la fecha: 2023-09-10T08:47:54.000. Detalle: unconverted data remains: .000\n",
      "Error al analizar la fecha: 2023-09-09T23:09:20.000. Detalle: unconverted data remains: .000\n",
      "Error al analizar la fecha: 2023-09-05T17:20:20.000. Detalle: unconverted data remains: .000\n",
      "Error al analizar la fecha: 2023-09-09T16:46:50.000. Detalle: unconverted data remains: .000\n",
      "Error al analizar la fecha: 2023-09-08T21:51:21.000. Detalle: unconverted data remains: .000\n",
      "Error al analizar la fecha: 2023-09-04T11:54:51.000. Detalle: unconverted data remains: .000\n",
      "Error al analizar la fecha: 2023-09-08T15:49:44.000. Detalle: unconverted data remains: .000\n",
      "Error al analizar la fecha: 2023-09-08T14:00:35.000. Detalle: unconverted data remains: .000\n",
      "Error al analizar la fecha: 2023-09-08T07:14:45.000. Detalle: unconverted data remains: .000\n",
      "Error al analizar la fecha: 2023-09-08T01:44:02.000. Detalle: unconverted data remains: .000\n",
      "Error al analizar la fecha: 2023-09-07T18:59:21.000. Detalle: unconverted data remains: .000\n",
      "Error al analizar la fecha: 2023-09-07T09:37:41.000. Detalle: unconverted data remains: .000\n",
      "Error al analizar la fecha: 2023-09-07T17:03:42.000. Detalle: unconverted data remains: .000\n",
      "Error al analizar la fecha: 2023-09-07T10:02:37.000. Detalle: unconverted data remains: .000\n",
      "Error al analizar la fecha: 2023-09-09T13:59:35.000. Detalle: unconverted data remains: .000\n",
      "Error al analizar la fecha: 2023-09-07T09:33:06.000. Detalle: unconverted data remains: .000\n",
      "Error al analizar la fecha: 2023-09-06T14:54:52.000. Detalle: unconverted data remains: .000\n",
      "Error al analizar la fecha: 2023-09-06T10:23:49.000. Detalle: unconverted data remains: .000\n",
      "Error al analizar la fecha: 2023-09-09T15:56:45.000. Detalle: unconverted data remains: .000\n",
      "Error al analizar la fecha: 2023-09-06T16:09:00.000. Detalle: unconverted data remains: .000\n",
      "Error al analizar la fecha: 2023-09-05T22:18:20.000. Detalle: unconverted data remains: .000\n",
      "Error al analizar la fecha: 2023-09-09T11:07:00.000. Detalle: unconverted data remains: .000\n",
      "Error al analizar la fecha: 2023-09-05T23:44:57.000. Detalle: unconverted data remains: .000\n",
      "Error al analizar la fecha: 2023-09-09T13:52:59.000. Detalle: unconverted data remains: .000\n",
      "Error al analizar la fecha: 2023-09-09T13:37:31.000. Detalle: unconverted data remains: .000\n",
      "Total de confirmaciones en la semana pasada: 0\n"
     ]
    }
   ],
   "source": [
    "for commit in data['items']:\n",
    "    commit_date_str = commit['commit']['committer']['date'][:-6]  \n",
    "    try:\n",
    "        commit_date = datetime.datetime.strptime(commit_date_str, '%Y-%m-%dT%H:%M:%S')\n",
    "        commit_date = commit_date.date()  \n",
    "        if start_date <= commit_date <= end_date:\n",
    "            commits_in_past_week += 1\n",
    "    except ValueError as e:\n",
    "        print(f'Error al analizar la fecha: {commit_date_str}. Detalle: {e}')\n",
    "\n",
    "print(f'Total de confirmaciones en la semana pasada: {commits_in_past_week}')\n"
   ]
  }
 ],
 "metadata": {
  "kernelspec": {
   "display_name": "Python 3 (ipykernel)",
   "language": "python",
   "name": "python3"
  },
  "language_info": {
   "codemirror_mode": {
    "name": "ipython",
    "version": 3
   },
   "file_extension": ".py",
   "mimetype": "text/x-python",
   "name": "python",
   "nbconvert_exporter": "python",
   "pygments_lexer": "ipython3",
   "version": "3.10.9"
  },
  "toc": {
   "base_numbering": 1,
   "nav_menu": {},
   "number_sections": true,
   "sideBar": true,
   "skip_h1_title": true,
   "title_cell": "Table of Contents",
   "title_sidebar": "Contents",
   "toc_cell": false,
   "toc_position": {
    "height": "calc(100% - 180px)",
    "left": "10px",
    "top": "150px",
    "width": "288px"
   },
   "toc_section_display": true,
   "toc_window_display": true
  }
 },
 "nbformat": 4,
 "nbformat_minor": 5
}
